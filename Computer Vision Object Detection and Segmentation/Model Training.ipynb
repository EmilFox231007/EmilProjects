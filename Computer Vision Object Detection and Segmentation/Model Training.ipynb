{
 "cells": [
  {
   "cell_type": "code",
   "execution_count": 1,
   "metadata": {},
   "outputs": [],
   "source": [
    "import numpy as np\n",
    "from sklearn.model_selection import train_test_split\n",
    "import glob\n",
    "import os\n",
    "import cv2\n",
    "from patchify import patchify\n",
    "import matplotlib.pyplot as plt\n",
    "import random\n",
    "import tensorflow as tf\n",
    "import keras.backend as K\n",
    "from tensorflow.keras.preprocessing.image import ImageDataGenerator\n",
    "from keras.models import Model\n",
    "import keras.backend as K\n",
    "from keras.layers import Input, Conv2D, MaxPooling2D, UpSampling2D, concatenate, Conv2DTranspose, BatchNormalization, Dropout, Lambda"
   ]
  },
  {
   "cell_type": "code",
   "execution_count": 2,
   "metadata": {},
   "outputs": [],
   "source": [
    "def f1(y_true, y_pred):\n",
    "    def recall_m(y_true, y_pred):\n",
    "        TP = K.sum(K.round(K.clip(y_true * y_pred, 0, 1)))\n",
    "        Positives = K.sum(K.round(K.clip(y_true, 0, 1)))\n",
    "        recall = TP / (Positives+K.epsilon())\n",
    "        return recall\n",
    "    \n",
    "    def precision_m(y_true, y_pred):\n",
    "        TP = K.sum(K.round(K.clip(y_true * y_pred, 0, 1)))\n",
    "        Pred_Positives = K.sum(K.round(K.clip(y_pred, 0, 1)))\n",
    "        precision = TP / (Pred_Positives+K.epsilon())\n",
    "        return precision\n",
    "    \n",
    "    precision, recall = precision_m(y_true, y_pred), recall_m(y_true, y_pred)\n",
    "    \n",
    "    return 2*((precision*recall)/(precision+recall+K.epsilon()))"
   ]
  },
  {
   "cell_type": "code",
   "execution_count": 3,
   "metadata": {},
   "outputs": [],
   "source": [
    "# Define U-Net\n",
    "def simple_unet_model(IMG_HEIGHT, IMG_WIDTH, IMG_CHANNELS):\n",
    "    \n",
    "    inputs = Input((IMG_HEIGHT, IMG_WIDTH, IMG_CHANNELS))\n",
    "    s = inputs\n",
    "\n",
    "    # Contraction path\n",
    "    c1 = Conv2D(16, (3, 3), activation='relu', kernel_initializer='he_normal', padding='same')(s)\n",
    "    c1 = Dropout(0.1)(c1)\n",
    "    c1 = Conv2D(16, (3, 3), activation='relu', kernel_initializer='he_normal', padding='same')(c1)\n",
    "    p1 = MaxPooling2D((2, 2))(c1)\n",
    "    \n",
    "    c2 = Conv2D(32, (3, 3), activation='relu', kernel_initializer='he_normal', padding='same')(p1)\n",
    "    c2 = Dropout(0.1)(c2)\n",
    "    c2 = Conv2D(32, (3, 3), activation='relu', kernel_initializer='he_normal', padding='same')(c2)\n",
    "    p2 = MaxPooling2D((2, 2))(c2)\n",
    "     \n",
    "    c3 = Conv2D(64, (3, 3), activation='relu', kernel_initializer='he_normal', padding='same')(p2)\n",
    "    c3 = Dropout(0.2)(c3)\n",
    "    c3 = Conv2D(64, (3, 3), activation='relu', kernel_initializer='he_normal', padding='same')(c3)\n",
    "    p3 = MaxPooling2D((2, 2))(c3)\n",
    "     \n",
    "    c4 = Conv2D(128, (3, 3), activation='relu', kernel_initializer='he_normal', padding='same')(p3)\n",
    "    c4 = Dropout(0.2)(c4)\n",
    "    c4 = Conv2D(128, (3, 3), activation='relu', kernel_initializer='he_normal', padding='same')(c4)\n",
    "    p4 = MaxPooling2D(pool_size=(2, 2))(c4)\n",
    "     \n",
    "    c5 = Conv2D(256, (3, 3), activation='relu', kernel_initializer='he_normal', padding='same')(p4)\n",
    "    c5 = Dropout(0.3)(c5)\n",
    "    c5 = Conv2D(256, (3, 3), activation='relu', kernel_initializer='he_normal', padding='same')(c5)\n",
    "    \n",
    "    # Expansive path \n",
    "    u6 = Conv2DTranspose(128, (2, 2), strides=(2, 2), padding='same')(c5)\n",
    "    u6 = concatenate([u6, c4])\n",
    "    c6 = Conv2D(128, (3, 3), activation='relu', kernel_initializer='he_normal', padding='same')(u6)\n",
    "    c6 = Dropout(0.2)(c6)\n",
    "    c6 = Conv2D(128, (3, 3), activation='relu', kernel_initializer='he_normal', padding='same')(c6)\n",
    "     \n",
    "    u7 = Conv2DTranspose(64, (2, 2), strides=(2, 2), padding='same')(c6)\n",
    "    u7 = concatenate([u7, c3])\n",
    "    c7 = Conv2D(64, (3, 3), activation='relu', kernel_initializer='he_normal', padding='same')(u7)\n",
    "    c7 = Dropout(0.2)(c7)\n",
    "    c7 = Conv2D(64, (3, 3), activation='relu', kernel_initializer='he_normal', padding='same')(c7)\n",
    "     \n",
    "    u8 = Conv2DTranspose(32, (2, 2), strides=(2, 2), padding='same')(c7)\n",
    "    u8 = concatenate([u8, c2])\n",
    "    c8 = Conv2D(32, (3, 3), activation='relu', kernel_initializer='he_normal', padding='same')(u8)\n",
    "    c8 = Dropout(0.1)(c8)\n",
    "    c8 = Conv2D(32, (3, 3), activation='relu', kernel_initializer='he_normal', padding='same')(c8)\n",
    "     \n",
    "    u9 = Conv2DTranspose(16, (2, 2), strides=(2, 2), padding='same')(c8)\n",
    "    u9 = concatenate([u9, c1], axis=3)\n",
    "    c9 = Conv2D(16, (3, 3), activation='relu', kernel_initializer='he_normal', padding='same')(u9)\n",
    "    c9 = Dropout(0.1)(c9)\n",
    "    c9 = Conv2D(16, (3, 3), activation='relu', kernel_initializer='he_normal', padding='same')(c9)\n",
    "     \n",
    "    outputs = Conv2D(1, (1, 1), activation='sigmoid')(c9)\n",
    "     \n",
    "    model = Model(inputs=[inputs], outputs=[outputs])\n",
    "    model.compile(optimizer='adam', loss='binary_crossentropy', metrics=['accuracy', f1])\n",
    "    model.summary()\n",
    "\n",
    "    return model"
   ]
  },
  {
   "cell_type": "code",
   "execution_count": 5,
   "metadata": {},
   "outputs": [],
   "source": [
    "patch_size = 128"
   ]
  },
  {
   "cell_type": "code",
   "execution_count": 6,
   "metadata": {},
   "outputs": [
    {
     "name": "stdout",
     "output_type": "stream",
     "text": [
      "Model: \"model\"\n",
      "__________________________________________________________________________________________________\n",
      " Layer (type)                   Output Shape         Param #     Connected to                     \n",
      "==================================================================================================\n",
      " input_1 (InputLayer)           [(None, 128, 128, 3  0           []                               \n",
      "                                )]                                                                \n",
      "                                                                                                  \n",
      " conv2d (Conv2D)                (None, 128, 128, 16  448         ['input_1[0][0]']                \n",
      "                                )                                                                 \n",
      "                                                                                                  \n",
      " dropout (Dropout)              (None, 128, 128, 16  0           ['conv2d[0][0]']                 \n",
      "                                )                                                                 \n",
      "                                                                                                  \n",
      " conv2d_1 (Conv2D)              (None, 128, 128, 16  2320        ['dropout[0][0]']                \n",
      "                                )                                                                 \n",
      "                                                                                                  \n",
      " max_pooling2d (MaxPooling2D)   (None, 64, 64, 16)   0           ['conv2d_1[0][0]']               \n",
      "                                                                                                  \n",
      " conv2d_2 (Conv2D)              (None, 64, 64, 32)   4640        ['max_pooling2d[0][0]']          \n",
      "                                                                                                  \n",
      " dropout_1 (Dropout)            (None, 64, 64, 32)   0           ['conv2d_2[0][0]']               \n",
      "                                                                                                  \n",
      " conv2d_3 (Conv2D)              (None, 64, 64, 32)   9248        ['dropout_1[0][0]']              \n",
      "                                                                                                  \n",
      " max_pooling2d_1 (MaxPooling2D)  (None, 32, 32, 32)  0           ['conv2d_3[0][0]']               \n",
      "                                                                                                  \n",
      " conv2d_4 (Conv2D)              (None, 32, 32, 64)   18496       ['max_pooling2d_1[0][0]']        \n",
      "                                                                                                  \n",
      " dropout_2 (Dropout)            (None, 32, 32, 64)   0           ['conv2d_4[0][0]']               \n",
      "                                                                                                  \n",
      " conv2d_5 (Conv2D)              (None, 32, 32, 64)   36928       ['dropout_2[0][0]']              \n",
      "                                                                                                  \n",
      " max_pooling2d_2 (MaxPooling2D)  (None, 16, 16, 64)  0           ['conv2d_5[0][0]']               \n",
      "                                                                                                  \n",
      " conv2d_6 (Conv2D)              (None, 16, 16, 128)  73856       ['max_pooling2d_2[0][0]']        \n",
      "                                                                                                  \n",
      " dropout_3 (Dropout)            (None, 16, 16, 128)  0           ['conv2d_6[0][0]']               \n",
      "                                                                                                  \n",
      " conv2d_7 (Conv2D)              (None, 16, 16, 128)  147584      ['dropout_3[0][0]']              \n",
      "                                                                                                  \n",
      " max_pooling2d_3 (MaxPooling2D)  (None, 8, 8, 128)   0           ['conv2d_7[0][0]']               \n",
      "                                                                                                  \n",
      " conv2d_8 (Conv2D)              (None, 8, 8, 256)    295168      ['max_pooling2d_3[0][0]']        \n",
      "                                                                                                  \n",
      " dropout_4 (Dropout)            (None, 8, 8, 256)    0           ['conv2d_8[0][0]']               \n",
      "                                                                                                  \n",
      " conv2d_9 (Conv2D)              (None, 8, 8, 256)    590080      ['dropout_4[0][0]']              \n",
      "                                                                                                  \n",
      " conv2d_transpose (Conv2DTransp  (None, 16, 16, 128)  131200     ['conv2d_9[0][0]']               \n",
      " ose)                                                                                             \n",
      "                                                                                                  \n",
      " concatenate (Concatenate)      (None, 16, 16, 256)  0           ['conv2d_transpose[0][0]',       \n",
      "                                                                  'conv2d_7[0][0]']               \n",
      "                                                                                                  \n",
      " conv2d_10 (Conv2D)             (None, 16, 16, 128)  295040      ['concatenate[0][0]']            \n",
      "                                                                                                  \n",
      " dropout_5 (Dropout)            (None, 16, 16, 128)  0           ['conv2d_10[0][0]']              \n",
      "                                                                                                  \n",
      " conv2d_11 (Conv2D)             (None, 16, 16, 128)  147584      ['dropout_5[0][0]']              \n",
      "                                                                                                  \n",
      " conv2d_transpose_1 (Conv2DTran  (None, 32, 32, 64)  32832       ['conv2d_11[0][0]']              \n",
      " spose)                                                                                           \n",
      "                                                                                                  \n",
      " concatenate_1 (Concatenate)    (None, 32, 32, 128)  0           ['conv2d_transpose_1[0][0]',     \n",
      "                                                                  'conv2d_5[0][0]']               \n",
      "                                                                                                  \n",
      " conv2d_12 (Conv2D)             (None, 32, 32, 64)   73792       ['concatenate_1[0][0]']          \n",
      "                                                                                                  \n",
      " dropout_6 (Dropout)            (None, 32, 32, 64)   0           ['conv2d_12[0][0]']              \n",
      "                                                                                                  \n",
      " conv2d_13 (Conv2D)             (None, 32, 32, 64)   36928       ['dropout_6[0][0]']              \n",
      "                                                                                                  \n",
      " conv2d_transpose_2 (Conv2DTran  (None, 64, 64, 32)  8224        ['conv2d_13[0][0]']              \n",
      " spose)                                                                                           \n",
      "                                                                                                  \n",
      " concatenate_2 (Concatenate)    (None, 64, 64, 64)   0           ['conv2d_transpose_2[0][0]',     \n",
      "                                                                  'conv2d_3[0][0]']               \n",
      "                                                                                                  \n",
      " conv2d_14 (Conv2D)             (None, 64, 64, 32)   18464       ['concatenate_2[0][0]']          \n",
      "                                                                                                  \n",
      " dropout_7 (Dropout)            (None, 64, 64, 32)   0           ['conv2d_14[0][0]']              \n",
      "                                                                                                  \n",
      " conv2d_15 (Conv2D)             (None, 64, 64, 32)   9248        ['dropout_7[0][0]']              \n",
      "                                                                                                  \n",
      " conv2d_transpose_3 (Conv2DTran  (None, 128, 128, 16  2064       ['conv2d_15[0][0]']              \n",
      " spose)                         )                                                                 \n",
      "                                                                                                  \n",
      " concatenate_3 (Concatenate)    (None, 128, 128, 32  0           ['conv2d_transpose_3[0][0]',     \n",
      "                                )                                 'conv2d_1[0][0]']               \n",
      "                                                                                                  \n",
      " conv2d_16 (Conv2D)             (None, 128, 128, 16  4624        ['concatenate_3[0][0]']          \n",
      "                                )                                                                 \n",
      "                                                                                                  \n",
      " dropout_8 (Dropout)            (None, 128, 128, 16  0           ['conv2d_16[0][0]']              \n",
      "                                )                                                                 \n",
      "                                                                                                  \n",
      " conv2d_17 (Conv2D)             (None, 128, 128, 16  2320        ['dropout_8[0][0]']              \n",
      "                                )                                                                 \n",
      "                                                                                                  \n",
      " conv2d_18 (Conv2D)             (None, 128, 128, 1)  17          ['conv2d_17[0][0]']              \n",
      "                                                                                                  \n",
      "==================================================================================================\n",
      "Total params: 1,941,105\n",
      "Trainable params: 1,941,105\n",
      "Non-trainable params: 0\n",
      "__________________________________________________________________________________________________\n",
      "Model: \"model\"\n",
      "__________________________________________________________________________________________________\n",
      " Layer (type)                   Output Shape         Param #     Connected to                     \n",
      "==================================================================================================\n",
      " input_1 (InputLayer)           [(None, 128, 128, 3  0           []                               \n",
      "                                )]                                                                \n",
      "                                                                                                  \n",
      " conv2d (Conv2D)                (None, 128, 128, 16  448         ['input_1[0][0]']                \n",
      "                                )                                                                 \n",
      "                                                                                                  \n",
      " dropout (Dropout)              (None, 128, 128, 16  0           ['conv2d[0][0]']                 \n",
      "                                )                                                                 \n",
      "                                                                                                  \n",
      " conv2d_1 (Conv2D)              (None, 128, 128, 16  2320        ['dropout[0][0]']                \n",
      "                                )                                                                 \n",
      "                                                                                                  \n",
      " max_pooling2d (MaxPooling2D)   (None, 64, 64, 16)   0           ['conv2d_1[0][0]']               \n",
      "                                                                                                  \n",
      " conv2d_2 (Conv2D)              (None, 64, 64, 32)   4640        ['max_pooling2d[0][0]']          \n",
      "                                                                                                  \n",
      " dropout_1 (Dropout)            (None, 64, 64, 32)   0           ['conv2d_2[0][0]']               \n",
      "                                                                                                  \n",
      " conv2d_3 (Conv2D)              (None, 64, 64, 32)   9248        ['dropout_1[0][0]']              \n",
      "                                                                                                  \n",
      " max_pooling2d_1 (MaxPooling2D)  (None, 32, 32, 32)  0           ['conv2d_3[0][0]']               \n",
      "                                                                                                  \n",
      " conv2d_4 (Conv2D)              (None, 32, 32, 64)   18496       ['max_pooling2d_1[0][0]']        \n",
      "                                                                                                  \n",
      " dropout_2 (Dropout)            (None, 32, 32, 64)   0           ['conv2d_4[0][0]']               \n",
      "                                                                                                  \n",
      " conv2d_5 (Conv2D)              (None, 32, 32, 64)   36928       ['dropout_2[0][0]']              \n",
      "                                                                                                  \n",
      " max_pooling2d_2 (MaxPooling2D)  (None, 16, 16, 64)  0           ['conv2d_5[0][0]']               \n",
      "                                                                                                  \n",
      " conv2d_6 (Conv2D)              (None, 16, 16, 128)  73856       ['max_pooling2d_2[0][0]']        \n",
      "                                                                                                  \n",
      " dropout_3 (Dropout)            (None, 16, 16, 128)  0           ['conv2d_6[0][0]']               \n",
      "                                                                                                  \n",
      " conv2d_7 (Conv2D)              (None, 16, 16, 128)  147584      ['dropout_3[0][0]']              \n",
      "                                                                                                  \n",
      " max_pooling2d_3 (MaxPooling2D)  (None, 8, 8, 128)   0           ['conv2d_7[0][0]']               \n",
      "                                                                                                  \n",
      " conv2d_8 (Conv2D)              (None, 8, 8, 256)    295168      ['max_pooling2d_3[0][0]']        \n",
      "                                                                                                  \n",
      " dropout_4 (Dropout)            (None, 8, 8, 256)    0           ['conv2d_8[0][0]']               \n",
      "                                                                                                  \n",
      " conv2d_9 (Conv2D)              (None, 8, 8, 256)    590080      ['dropout_4[0][0]']              \n",
      "                                                                                                  \n",
      " conv2d_transpose (Conv2DTransp  (None, 16, 16, 128)  131200     ['conv2d_9[0][0]']               \n",
      " ose)                                                                                             \n",
      "                                                                                                  \n",
      " concatenate (Concatenate)      (None, 16, 16, 256)  0           ['conv2d_transpose[0][0]',       \n",
      "                                                                  'conv2d_7[0][0]']               \n",
      "                                                                                                  \n",
      " conv2d_10 (Conv2D)             (None, 16, 16, 128)  295040      ['concatenate[0][0]']            \n",
      "                                                                                                  \n",
      " dropout_5 (Dropout)            (None, 16, 16, 128)  0           ['conv2d_10[0][0]']              \n",
      "                                                                                                  \n",
      " conv2d_11 (Conv2D)             (None, 16, 16, 128)  147584      ['dropout_5[0][0]']              \n",
      "                                                                                                  \n",
      " conv2d_transpose_1 (Conv2DTran  (None, 32, 32, 64)  32832       ['conv2d_11[0][0]']              \n",
      " spose)                                                                                           \n",
      "                                                                                                  \n",
      " concatenate_1 (Concatenate)    (None, 32, 32, 128)  0           ['conv2d_transpose_1[0][0]',     \n",
      "                                                                  'conv2d_5[0][0]']               \n",
      "                                                                                                  \n",
      " conv2d_12 (Conv2D)             (None, 32, 32, 64)   73792       ['concatenate_1[0][0]']          \n",
      "                                                                                                  \n",
      " dropout_6 (Dropout)            (None, 32, 32, 64)   0           ['conv2d_12[0][0]']              \n",
      "                                                                                                  \n",
      " conv2d_13 (Conv2D)             (None, 32, 32, 64)   36928       ['dropout_6[0][0]']              \n",
      "                                                                                                  \n",
      " conv2d_transpose_2 (Conv2DTran  (None, 64, 64, 32)  8224        ['conv2d_13[0][0]']              \n",
      " spose)                                                                                           \n",
      "                                                                                                  \n",
      " concatenate_2 (Concatenate)    (None, 64, 64, 64)   0           ['conv2d_transpose_2[0][0]',     \n",
      "                                                                  'conv2d_3[0][0]']               \n",
      "                                                                                                  \n",
      " conv2d_14 (Conv2D)             (None, 64, 64, 32)   18464       ['concatenate_2[0][0]']          \n",
      "                                                                                                  \n",
      " dropout_7 (Dropout)            (None, 64, 64, 32)   0           ['conv2d_14[0][0]']              \n",
      "                                                                                                  \n",
      " conv2d_15 (Conv2D)             (None, 64, 64, 32)   9248        ['dropout_7[0][0]']              \n",
      "                                                                                                  \n",
      " conv2d_transpose_3 (Conv2DTran  (None, 128, 128, 16  2064       ['conv2d_15[0][0]']              \n",
      " spose)                         )                                                                 \n",
      "                                                                                                  \n",
      " concatenate_3 (Concatenate)    (None, 128, 128, 32  0           ['conv2d_transpose_3[0][0]',     \n",
      "                                )                                 'conv2d_1[0][0]']               \n",
      "                                                                                                  \n",
      " conv2d_16 (Conv2D)             (None, 128, 128, 16  4624        ['concatenate_3[0][0]']          \n",
      "                                )                                                                 \n",
      "                                                                                                  \n",
      " dropout_8 (Dropout)            (None, 128, 128, 16  0           ['conv2d_16[0][0]']              \n",
      "                                )                                                                 \n",
      "                                                                                                  \n",
      " conv2d_17 (Conv2D)             (None, 128, 128, 16  2320        ['dropout_8[0][0]']              \n",
      "                                )                                                                 \n",
      "                                                                                                  \n",
      " conv2d_18 (Conv2D)             (None, 128, 128, 1)  17          ['conv2d_17[0][0]']              \n",
      "                                                                                                  \n",
      "==================================================================================================\n",
      "Total params: 1,941,105\n",
      "Trainable params: 1,941,105\n",
      "Non-trainable params: 0\n",
      "__________________________________________________________________________________________________\n"
     ]
    }
   ],
   "source": [
    "# Build U-Net\n",
    "# REQUIREMENT: Model summary must be visible\n",
    "model = simple_unet_model(patch_size, patch_size, 3)\n",
    "model.summary()"
   ]
  },
  {
   "cell_type": "markdown",
   "metadata": {},
   "source": [
    "## Training the Y24 dataset: "
   ]
  },
  {
   "cell_type": "code",
   "execution_count": 7,
   "metadata": {},
   "outputs": [
    {
     "name": "stdout",
     "output_type": "stream",
     "text": [
      "Found 12271 images belonging to 1 classes.\n",
      "Found 12271 images belonging to 1 classes.\n"
     ]
    }
   ],
   "source": [
    "train_image_datagen = ImageDataGenerator(rescale=1./255)\n",
    "train_mask_datagen = ImageDataGenerator(rescale=1./255)\n",
    "patch_size = 128\n",
    "\n",
    "train_image_generator = train_image_datagen.flow_from_directory(\n",
    "    'C:/Users/emilp/Documents/Buas_Y2/Block_B/data_sets/dataset_patches_Y24_3/train_images',\n",
    "    target_size=(patch_size, patch_size),\n",
    "    batch_size=16,\n",
    "    class_mode=None,\n",
    "    color_mode='rgb',\n",
    "    seed=42)\n",
    "\n",
    "train_mask_generator = train_mask_datagen.flow_from_directory(\n",
    "    'C:/Users/emilp/Documents/Buas_Y2/Block_B/data_sets/dataset_patches_Y24_3/train_masks',\n",
    "    target_size=(patch_size, patch_size),\n",
    "    batch_size=16,\n",
    "    class_mode=None,\n",
    "    color_mode='grayscale',\n",
    "    seed=42)\n",
    "\n",
    "train_generator = zip(train_image_generator, train_mask_generator)"
   ]
  },
  {
   "cell_type": "code",
   "execution_count": 7,
   "metadata": {},
   "outputs": [
    {
     "name": "stdout",
     "output_type": "stream",
     "text": [
      "Found 2333 images belonging to 1 classes.\n",
      "Found 2333 images belonging to 1 classes.\n"
     ]
    }
   ],
   "source": [
    "val_image_datagen = ImageDataGenerator(rescale=1./255)\n",
    "val_mask_datagen = ImageDataGenerator(rescale=1./255)\n",
    "\n",
    "val_image_generator = train_image_datagen.flow_from_directory(\n",
    "    'C:/Users/emilp/Documents/Buas_Y2/Block_B/data_sets/dataset_patches_Y24_3/val_images',\n",
    "    target_size=(patch_size, patch_size),\n",
    "    batch_size=16,\n",
    "    class_mode=None,\n",
    "    color_mode='rgb',\n",
    "    seed=42)\n",
    "\n",
    "val_mask_generator = train_mask_datagen.flow_from_directory(\n",
    "    'C:/Users/emilp/Documents/Buas_Y2/Block_B/data_sets/dataset_patches_Y24_3/val_masks',\n",
    "    target_size=(patch_size, patch_size),\n",
    "    batch_size=16,\n",
    "    class_mode=None,\n",
    "    color_mode='grayscale',\n",
    "    seed=42)\n",
    "\n",
    "val_generator = zip(val_image_generator, val_mask_generator)"
   ]
  },
  {
   "cell_type": "code",
   "execution_count": 7,
   "metadata": {},
   "outputs": [],
   "source": [
    "# EarlyStopping()\n",
    "from keras.callbacks import EarlyStopping\n",
    "\n",
    "cb = EarlyStopping(monitor='val_loss',\n",
    "                   patience=3,\n",
    "                   restore_best_weights='True',\n",
    "                   mode='min')"
   ]
  },
  {
   "cell_type": "code",
   "execution_count": 9,
   "metadata": {},
   "outputs": [
    {
     "name": "stdout",
     "output_type": "stream",
     "text": [
      "Epoch 1/30\n",
      "767/767 [==============================] - 34s 36ms/step - loss: 0.0993 - accuracy: 0.9474 - f1: 0.6541 - val_loss: 0.0565 - val_accuracy: 0.9508 - val_f1: 0.8479\n",
      "Epoch 2/30\n",
      "767/767 [==============================] - 25s 32ms/step - loss: 0.0547 - accuracy: 0.9561 - f1: 0.8352 - val_loss: 0.0464 - val_accuracy: 0.9560 - val_f1: 0.8633\n",
      "Epoch 3/30\n",
      "767/767 [==============================] - 25s 32ms/step - loss: 0.0478 - accuracy: 0.9575 - f1: 0.8517 - val_loss: 0.0431 - val_accuracy: 0.9577 - val_f1: 0.8681\n",
      "Epoch 4/30\n",
      "767/767 [==============================] - 25s 32ms/step - loss: 0.0433 - accuracy: 0.9584 - f1: 0.8665 - val_loss: 0.0398 - val_accuracy: 0.9580 - val_f1: 0.8803\n",
      "Epoch 5/30\n",
      "767/767 [==============================] - 25s 32ms/step - loss: 0.0415 - accuracy: 0.9587 - f1: 0.8713 - val_loss: 0.0414 - val_accuracy: 0.9545 - val_f1: 0.8862\n",
      "Epoch 6/30\n",
      "767/767 [==============================] - 25s 32ms/step - loss: 0.0410 - accuracy: 0.9587 - f1: 0.8735 - val_loss: 0.0387 - val_accuracy: 0.9576 - val_f1: 0.8822\n",
      "Epoch 7/30\n",
      "767/767 [==============================] - 25s 32ms/step - loss: 0.0394 - accuracy: 0.9591 - f1: 0.8781 - val_loss: 0.0351 - val_accuracy: 0.9567 - val_f1: 0.8984\n",
      "Epoch 8/30\n",
      "767/767 [==============================] - 25s 33ms/step - loss: 0.0388 - accuracy: 0.9591 - f1: 0.8798 - val_loss: 0.0379 - val_accuracy: 0.9566 - val_f1: 0.8926\n",
      "Epoch 9/30\n",
      "767/767 [==============================] - 27s 35ms/step - loss: 0.0391 - accuracy: 0.9589 - f1: 0.8797 - val_loss: 0.0341 - val_accuracy: 0.9572 - val_f1: 0.8994\n",
      "Epoch 10/30\n",
      "767/767 [==============================] - 27s 35ms/step - loss: 0.0368 - accuracy: 0.9594 - f1: 0.8868 - val_loss: 0.0335 - val_accuracy: 0.9580 - val_f1: 0.8983\n",
      "Epoch 11/30\n",
      "767/767 [==============================] - 27s 35ms/step - loss: 0.0372 - accuracy: 0.9593 - f1: 0.8864 - val_loss: 0.0331 - val_accuracy: 0.9579 - val_f1: 0.9015\n",
      "Epoch 12/30\n",
      "767/767 [==============================] - 26s 34ms/step - loss: 0.0379 - accuracy: 0.9592 - f1: 0.8845 - val_loss: 0.0335 - val_accuracy: 0.9573 - val_f1: 0.9021\n",
      "Epoch 13/30\n",
      "767/767 [==============================] - 26s 34ms/step - loss: 0.0362 - accuracy: 0.9595 - f1: 0.8877 - val_loss: 0.0325 - val_accuracy: 0.9570 - val_f1: 0.9027\n",
      "Epoch 14/30\n",
      "767/767 [==============================] - 26s 34ms/step - loss: 0.0359 - accuracy: 0.9595 - f1: 0.8883 - val_loss: 0.0416 - val_accuracy: 0.9552 - val_f1: 0.9048\n",
      "Epoch 15/30\n",
      "767/767 [==============================] - 26s 34ms/step - loss: 0.0357 - accuracy: 0.9596 - f1: 0.8904 - val_loss: 0.0312 - val_accuracy: 0.9574 - val_f1: 0.9067\n",
      "Epoch 16/30\n",
      "767/767 [==============================] - 26s 34ms/step - loss: 0.0359 - accuracy: 0.9595 - f1: 0.8883 - val_loss: 0.0319 - val_accuracy: 0.9571 - val_f1: 0.9060\n",
      "Epoch 17/30\n",
      "767/767 [==============================] - 26s 34ms/step - loss: 0.0348 - accuracy: 0.9597 - f1: 0.8913 - val_loss: 0.0315 - val_accuracy: 0.9575 - val_f1: 0.9075\n",
      "Epoch 18/30\n",
      "767/767 [==============================] - 26s 34ms/step - loss: 0.0344 - accuracy: 0.9598 - f1: 0.8926 - val_loss: 0.0317 - val_accuracy: 0.9581 - val_f1: 0.9035\n"
     ]
    }
   ],
   "source": [
    "history = model.fit(\n",
    "    train_generator,\n",
    "    steps_per_epoch=len(train_image_generator),\n",
    "    epochs=30,\n",
    "    validation_data = val_generator,\n",
    "    validation_steps = val_image_generator.samples//16,\n",
    "    callbacks=[cb]\n",
    ")"
   ]
  },
  {
   "cell_type": "code",
   "execution_count": 11,
   "metadata": {},
   "outputs": [
    {
     "name": "stdout",
     "output_type": "stream",
     "text": [
      "Best validation loss: 0.031241493299603462\n",
      "Best validation f1: 0.907482922077179\n"
     ]
    }
   ],
   "source": [
    "# REQUIREMENT: Run and display the output of this cell.\n",
    "# REQUIREMENT: Do not change the code.\n",
    "best_val_loss = min(history.history['val_loss'])\n",
    "best_val_f1 = max(history.history['val_f1'])\n",
    "print(f\"Best validation loss: {best_val_loss}\")\n",
    "print(f\"Best validation f1: {best_val_f1}\")"
   ]
  },
  {
   "cell_type": "code",
   "execution_count": 12,
   "metadata": {},
   "outputs": [
    {
     "data": {
      "image/png": "[encoded data removed]",
      "text/plain": [
       "<Figure size 640x480 with 1 Axes>"
      ]
     },
     "metadata": {},
     "output_type": "display_data"
    }
   ],
   "source": [
    "# REQUIREMENT: Run and display the output of this cell.\n",
    "# REQUIREMENT: Do not change the code.\n",
    "loss = history.history['loss']\n",
    "val_loss = history.history['val_loss']\n",
    "\n",
    "epochs = np.arange(1, len(loss) + 1)\n",
    "\n",
    "plt.plot(epochs, loss, label='train_loss')\n",
    "plt.plot(epochs, val_loss, label='val_loss')\n",
    "plt.legend()\n",
    "plt.xlabel('Epoch')\n",
    "plt.ylabel('Loss (binary_crossentropy)')\n",
    "_ = plt.xticks(np.arange(1, len(loss) + 1, 3))"
   ]
  },
  {
   "cell_type": "code",
   "execution_count": null,
   "metadata": {},
   "outputs": [
    {
     "data": {
      "image/png": "[encoded data removed]",
      "text/plain": [
       "<Figure size 640x480 with 1 Axes>"
      ]
     },
     "metadata": {},
     "output_type": "display_data"
    }
   ],
   "source": [
    "# REQUIREMENT: Run and display the output of this cell.\n",
    "# REQUIREMENT: Do not change the code.\n",
    "train_f1 = history.history['f1']\n",
    "val_f1 = history.history['val_f1']\n",
    "\n",
    "epochs = np.arange(1, len(train_f1) + 1)\n",
    "\n",
    "plt.plot(epochs, train_f1, label='train_f1')\n",
    "plt.plot(epochs, val_f1, label='val_f1')\n",
    "plt.legend()\n",
    "plt.xlabel('Epoch')\n",
    "plt.ylabel('F1')\n",
    "_ = plt.xticks(np.arange(1, len(loss) + 1, 3))"
   ]
  },
  {
   "cell_type": "markdown",
   "metadata": {},
   "source": [
    "## Training the final model with both Y23 and Y24 datasets:"
   ]
  },
  {
   "cell_type": "code",
   "execution_count": 8,
   "metadata": {},
   "outputs": [
    {
     "name": "stdout",
     "output_type": "stream",
     "text": [
      "Found 20909 images belonging to 1 classes.\n",
      "Found 20909 images belonging to 1 classes.\n"
     ]
    }
   ],
   "source": [
    "train_image_datagen = ImageDataGenerator(rescale=1./255)\n",
    "train_mask_datagen = ImageDataGenerator(rescale=1./255)\n",
    "patch_size = 128\n",
    "\n",
    "train_image_generator = train_image_datagen.flow_from_directory(\n",
    "    'C:/Users/emilp/Documents/Buas_Y2/Block_B/data_sets/dataset_patches_Y23&24/train_images',\n",
    "    target_size=(patch_size, patch_size),\n",
    "    batch_size=16,\n",
    "    class_mode=None,\n",
    "    color_mode='rgb',\n",
    "    seed=42)\n",
    "\n",
    "train_mask_generator = train_mask_datagen.flow_from_directory(\n",
    "    'C:/Users/emilp/Documents/Buas_Y2/Block_B/data_sets/dataset_patches_Y23&24/train_masks',\n",
    "    target_size=(patch_size, patch_size),\n",
    "    batch_size=16,\n",
    "    class_mode=None,\n",
    "    color_mode='grayscale',\n",
    "    seed=42)\n",
    "\n",
    "train_generator = zip(train_image_generator, train_mask_generator)"
   ]
  },
  {
   "cell_type": "code",
   "execution_count": 9,
   "metadata": {},
   "outputs": [
    {
     "name": "stdout",
     "output_type": "stream",
     "text": [
      "Found 4434 images belonging to 1 classes.\n",
      "Found 4434 images belonging to 1 classes.\n"
     ]
    }
   ],
   "source": [
    "val_image_datagen = ImageDataGenerator(rescale=1./255)\n",
    "val_mask_datagen = ImageDataGenerator(rescale=1./255)\n",
    "\n",
    "val_image_generator = train_image_datagen.flow_from_directory(\n",
    "    'C:/Users/emilp/Documents/Buas_Y2/Block_B/data_sets/dataset_patches_Y23&24/val_images',\n",
    "    target_size=(patch_size, patch_size),\n",
    "    batch_size=16,\n",
    "    class_mode=None,\n",
    "    color_mode='rgb',\n",
    "    seed=42)\n",
    "\n",
    "val_mask_generator = train_mask_datagen.flow_from_directory(\n",
    "    'C:/Users/emilp/Documents/Buas_Y2/Block_B/data_sets/dataset_patches_Y23&24/val_masks',\n",
    "    target_size=(patch_size, patch_size),\n",
    "    batch_size=16,\n",
    "    class_mode=None,\n",
    "    color_mode='grayscale',\n",
    "    seed=42)\n",
    "\n",
    "val_generator = zip(val_image_generator, val_mask_generator)"
   ]
  },
  {
   "cell_type": "code",
   "execution_count": 16,
   "metadata": {},
   "outputs": [
    {
     "name": "stdout",
     "output_type": "stream",
     "text": [
      "Epoch 1/30\n",
      "1307/1307 [==============================] - 53s 40ms/step - loss: 0.0451 - accuracy: 0.9528 - f1: 0.8694 - val_loss: 0.0413 - val_accuracy: 0.9555 - val_f1: 0.8916\n",
      "Epoch 2/30\n",
      "1307/1307 [==============================] - 49s 37ms/step - loss: 0.0432 - accuracy: 0.9532 - f1: 0.8736 - val_loss: 0.0425 - val_accuracy: 0.9552 - val_f1: 0.8928\n",
      "Epoch 3/30\n",
      "1307/1307 [==============================] - 49s 38ms/step - loss: 0.0418 - accuracy: 0.9534 - f1: 0.8768 - val_loss: 0.0405 - val_accuracy: 0.9545 - val_f1: 0.8969\n",
      "Epoch 4/30\n",
      "1307/1307 [==============================] - 49s 38ms/step - loss: 0.0413 - accuracy: 0.9535 - f1: 0.8780 - val_loss: 0.0404 - val_accuracy: 0.9551 - val_f1: 0.8964\n",
      "Epoch 5/30\n",
      "1307/1307 [==============================] - 49s 37ms/step - loss: 0.0415 - accuracy: 0.9535 - f1: 0.8770 - val_loss: 0.0403 - val_accuracy: 0.9558 - val_f1: 0.8950\n",
      "Epoch 6/30\n",
      "1307/1307 [==============================] - 49s 38ms/step - loss: 0.0413 - accuracy: 0.9535 - f1: 0.8779 - val_loss: 0.0401 - val_accuracy: 0.9548 - val_f1: 0.8979\n",
      "Epoch 7/30\n",
      "1307/1307 [==============================] - 49s 38ms/step - loss: 0.0408 - accuracy: 0.9537 - f1: 0.8792 - val_loss: 0.0411 - val_accuracy: 0.9554 - val_f1: 0.8945\n",
      "Epoch 8/30\n",
      "1307/1307 [==============================] - 49s 38ms/step - loss: 0.0410 - accuracy: 0.9536 - f1: 0.8788 - val_loss: 0.0405 - val_accuracy: 0.9553 - val_f1: 0.8952\n",
      "Epoch 9/30\n",
      "1307/1307 [==============================] - 48s 37ms/step - loss: 0.0405 - accuracy: 0.9536 - f1: 0.8806 - val_loss: 0.0396 - val_accuracy: 0.9557 - val_f1: 0.8975\n",
      "Epoch 10/30\n",
      "1307/1307 [==============================] - 49s 37ms/step - loss: 0.0394 - accuracy: 0.9539 - f1: 0.8826 - val_loss: 0.0404 - val_accuracy: 0.9557 - val_f1: 0.8940\n",
      "Epoch 11/30\n",
      "1307/1307 [==============================] - 49s 37ms/step - loss: 0.0409 - accuracy: 0.9537 - f1: 0.8795 - val_loss: 0.0408 - val_accuracy: 0.9563 - val_f1: 0.8932\n",
      "Epoch 12/30\n",
      "1307/1307 [==============================] - 48s 37ms/step - loss: 0.0401 - accuracy: 0.9538 - f1: 0.8807 - val_loss: 0.0407 - val_accuracy: 0.9561 - val_f1: 0.8955\n"
     ]
    }
   ],
   "source": [
    "history = model.fit(\n",
    "    train_generator,\n",
    "    steps_per_epoch=len(train_image_generator),\n",
    "    epochs=30,\n",
    "    validation_data = val_generator,\n",
    "    validation_steps = val_image_generator.samples//16,\n",
    "    callbacks=[cb]\n",
    ")"
   ]
  },
  {
   "cell_type": "code",
   "execution_count": 17,
   "metadata": {},
   "outputs": [
    {
     "name": "stdout",
     "output_type": "stream",
     "text": [
      "Best validation loss: 0.03958956152200699\n",
      "Best validation f1: 0.8979098200798035\n"
     ]
    }
   ],
   "source": [
    "# REQUIREMENT: Run and display the output of this cell.\n",
    "# REQUIREMENT: Do not change the code.\n",
    "best_val_loss = min(history.history['val_loss'])\n",
    "best_val_f1 = max(history.history['val_f1'])\n",
    "print(f\"Best validation loss: {best_val_loss}\")\n",
    "print(f\"Best validation f1: {best_val_f1}\")"
   ]
  },
  {
   "cell_type": "code",
   "execution_count": 18,
   "metadata": {},
   "outputs": [
    {
     "data": {
      "image/png": "[encoded data removed]",
      "text/plain": [
       "<Figure size 640x480 with 1 Axes>"
      ]
     },
     "metadata": {},
     "output_type": "display_data"
    }
   ],
   "source": [
    "# REQUIREMENT: Run and display the output of this cell.\n",
    "# REQUIREMENT: Do not change the code.\n",
    "loss = history.history['loss']\n",
    "val_loss = history.history['val_loss']\n",
    "\n",
    "epochs = np.arange(1, len(loss) + 1)\n",
    "\n",
    "plt.plot(epochs, loss, label='train_loss')\n",
    "plt.plot(epochs, val_loss, label='val_loss')\n",
    "plt.legend()\n",
    "plt.xlabel('Epoch')\n",
    "plt.ylabel('Loss (binary_crossentropy)')\n",
    "_ = plt.xticks(np.arange(1, len(loss) + 1, 3))"
   ]
  },
  {
   "cell_type": "code",
   "execution_count": 19,
   "metadata": {},
   "outputs": [
    {
     "data": {
      "image/png": "[encoded data removed]",
      "text/plain": [
       "<Figure size 640x480 with 1 Axes>"
      ]
     },
     "metadata": {},
     "output_type": "display_data"
    }
   ],
   "source": [
    "# REQUIREMENT: Run and display the output of this cell.\n",
    "# REQUIREMENT: Do not change the code.\n",
    "train_f1 = history.history['f1']\n",
    "val_f1 = history.history['val_f1']\n",
    "\n",
    "epochs = np.arange(1, len(train_f1) + 1)\n",
    "\n",
    "plt.plot(epochs, train_f1, label='train_f1')\n",
    "plt.plot(epochs, val_f1, label='val_f1')\n",
    "plt.legend()\n",
    "plt.xlabel('Epoch')\n",
    "plt.ylabel('F1')\n",
    "_ = plt.xticks(np.arange(1, len(loss) + 1, 3))"
   ]
  },
  {
   "cell_type": "code",
   "execution_count": 20,
   "metadata": {},
   "outputs": [
    {
     "name": "stdout",
     "output_type": "stream",
     "text": [
      "emil_2310077_unet_model_128px.h5\n"
     ]
    }
   ],
   "source": [
    "# REQUIREMENT: Save your model, it is a deliverable\n",
    "# REQUIREMENT: naming convention 'studentname_studentnumber_unet_model_patchsizepx.h5'\n",
    "example_file_name = f'emil_2310077_unet_model_{patch_size}px.h5'\n",
    "print(example_file_name)\n",
    "model.save(example_file_name)"
   ]
  },
  {
   "cell_type": "markdown",
   "metadata": {},
   "source": [
    "-----"
   ]
  },
  {
   "cell_type": "code",
   "execution_count": 10,
   "metadata": {},
   "outputs": [
    {
     "name": "stdout",
     "output_type": "stream",
     "text": [
      "Found 48668 images belonging to 1 classes.\n",
      "Found 48668 images belonging to 1 classes.\n"
     ]
    }
   ],
   "source": [
    "train_image_datagen = ImageDataGenerator(rescale=1./255)\n",
    "train_mask_datagen = ImageDataGenerator(rescale=1./255)\n",
    "patch_size = 128\n",
    "\n",
    "train_image_generator = train_image_datagen.flow_from_directory(\n",
    "    r\"C:\\Users\\emilp\\Documents\\Buas_Y2\\Block_B\\data_sets\\dataset_patches\\train_images\",\n",
    "    target_size=(patch_size, patch_size),\n",
    "    batch_size=32,\n",
    "    class_mode=None,\n",
    "    color_mode='rgb',\n",
    "    seed=42)\n",
    "\n",
    "train_mask_generator = train_mask_datagen.flow_from_directory(\n",
    "    r\"C:\\Users\\emilp\\Documents\\Buas_Y2\\Block_B\\data_sets\\dataset_patches\\train_masks\",\n",
    "    target_size=(patch_size, patch_size),\n",
    "    batch_size=32,\n",
    "    class_mode=None,\n",
    "    color_mode='grayscale',\n",
    "    seed=42)\n",
    "\n",
    "train_generator = zip(train_image_generator, train_mask_generator)"
   ]
  },
  {
   "cell_type": "code",
   "execution_count": 11,
   "metadata": {},
   "outputs": [
    {
     "name": "stdout",
     "output_type": "stream",
     "text": [
      "Found 12167 images belonging to 1 classes.\n",
      "Found 12167 images belonging to 1 classes.\n"
     ]
    }
   ],
   "source": [
    "val_image_datagen = ImageDataGenerator(rescale=1./255)\n",
    "val_mask_datagen = ImageDataGenerator(rescale=1./255)\n",
    "\n",
    "val_image_generator = train_image_datagen.flow_from_directory(\n",
    "    r\"C:\\Users\\emilp\\Documents\\Buas_Y2\\Block_B\\data_sets\\dataset_patches\\val_images\",\n",
    "    target_size=(patch_size, patch_size),\n",
    "    batch_size=32,\n",
    "    class_mode=None,\n",
    "    color_mode='rgb',\n",
    "    seed=42)\n",
    "\n",
    "val_mask_generator = train_mask_datagen.flow_from_directory(\n",
    "    r\"C:\\Users\\emilp\\Documents\\Buas_Y2\\Block_B\\data_sets\\dataset_patches\\val_images\",\n",
    "    target_size=(patch_size, patch_size),\n",
    "    batch_size=32,\n",
    "    class_mode=None,\n",
    "    color_mode='grayscale',\n",
    "    seed=42)\n",
    "\n",
    "val_generator = zip(val_image_generator, val_mask_generator)"
   ]
  },
  {
   "cell_type": "code",
   "execution_count": 62,
   "metadata": {},
   "outputs": [
    {
     "name": "stdout",
     "output_type": "stream",
     "text": [
      "emil_23100111_unet_model_256px.h5\n"
     ]
    }
   ],
   "source": [
    "# REQUIREMENT: Save your model, it is a deliverable\n",
    "# REQUIREMENT: naming convention 'studentname_studentnumber_unet_model_patchsizepx.h5'\n",
    "example_file_name = f'emil_23100111_unet_model_{patch_size}px.h5'\n",
    "print(example_file_name)\n",
    "model.save(example_file_name)"
   ]
  },
  {
   "cell_type": "markdown",
   "metadata": {},
   "source": [
    "#### I trained various models but this one gave the best prediction results as its using patches with 256 patch size."
   ]
  }
 ],
 "metadata": {
  "kernelspec": {
   "display_name": "gputest",
   "language": "python",
   "name": "python3"
  },
  "language_info": {
   "codemirror_mode": {
    "name": "ipython",
    "version": 3
   },
   "file_extension": ".py",
   "mimetype": "text/x-python",
   "name": "python",
   "nbconvert_exporter": "python",
   "pygments_lexer": "ipython3",
   "version": "3.7.16"
  }
 },
 "nbformat": 4,
 "nbformat_minor": 2
}
